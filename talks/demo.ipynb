{
 "cells": [
  {
   "cell_type": "markdown",
   "id": "f3e2c8ee-c34d-4a47-8212-fc7871a74cc3",
   "metadata": {},
   "source": [
    "# Talk demo intro"
   ]
  },
  {
   "cell_type": "code",
   "execution_count": null,
   "id": "4d46818c-204e-426c-b22f-6c2e7a651ca1",
   "metadata": {},
   "outputs": [],
   "source": [
    "! pip install -q torch\n",
    "! pip install -q tensor-sensor"
   ]
  },
  {
   "cell_type": "markdown",
   "id": "e672e0c2-b516-492c-9616-781db12f9397",
   "metadata": {},
   "source": [
    "## Simulated GRU matrix algebra with dimension issue"
   ]
  },
  {
   "cell_type": "code",
   "execution_count": null,
   "id": "43b79890-6f82-4261-b834-0b53f46d518d",
   "metadata": {},
   "outputs": [],
   "source": [
    "import torch\n",
    "\n",
    "n = 200         # number of instances\n",
    "d = 764         # number of instance features\n",
    "nhidden = 256\n",
    "\n",
    "Whh = torch.eye(nhidden, nhidden)   # Identity matrix\n",
    "Uxh = torch.randn(d, nhidden)\n",
    "bh  = torch.zeros(nhidden, 1)\n",
    "h = torch.randn(nhidden, 1)         # fake previous hidden state h\n",
    "r = torch.randn(nhidden, 1)         # fake this computation\n",
    "X = torch.rand(n,d)                 # fake input\n",
    "\n",
    "# Following code raises an exception\n",
    "h = torch.tanh(Whh @ (r*h) + Uxh @ X.T + bh)  # state vector update equation"
   ]
  },
  {
   "cell_type": "markdown",
   "id": "208a643d-2a07-40ce-9060-1ab5a80286fa",
   "metadata": {},
   "source": [
    "## TensorSensor traps, clarifies, and visualizes issues"
   ]
  },
  {
   "cell_type": "code",
   "execution_count": null,
   "id": "83dbfd70-c784-44c5-a023-8ffa1c7f18df",
   "metadata": {},
   "outputs": [],
   "source": [
    "import tsensor\n",
    "\n",
    "with tsensor.clarify():\n",
    "    h = torch.tanh(Whh @ (r*h) + Uxh @ X.T + bh)  # state vector update equation"
   ]
  },
  {
   "cell_type": "markdown",
   "id": "9ce7ac3e-c01a-493e-97f6-2b6305dbd4f3",
   "metadata": {},
   "source": [
    "TensorSensor has augmented the exception object's message with:\n",
    "\n",
    "```\n",
    "Cause: @ on tensor operand Uxh w/shape [764, 256] and operand X.T w/shape [764, 200]\n",
    "```"
   ]
  },
  {
   "cell_type": "markdown",
   "id": "8a451d9c-8fcd-41d0-b140-a7affdb0a1fa",
   "metadata": {},
   "source": [
    "## Fix error and clarify() does nothing"
   ]
  },
  {
   "cell_type": "code",
   "execution_count": null,
   "id": "0d0b044c-dce0-4a3c-9a4b-de0c4bd1e27f",
   "metadata": {},
   "outputs": [],
   "source": [
    "Uxh = torch.randn(nhidden, d)\n",
    "with tsensor.clarify():\n",
    "    h = torch.tanh(Whh @ (r*h) + Uxh @ X.T + bh)  # state vector update equation"
   ]
  },
  {
   "cell_type": "markdown",
   "id": "96b5ed0f-e9a5-4270-be5e-deadc5d35fbd",
   "metadata": {},
   "source": [
    "## Explaining code w/o errors"
   ]
  },
  {
   "cell_type": "code",
   "execution_count": null,
   "id": "37c4e6ba-2d59-486d-836d-c81b0f026e8a",
   "metadata": {},
   "outputs": [],
   "source": [
    "W = torch.rand(size=(2000,2000))\n",
    "b = torch.rand(size=(2000,1))\n",
    "h = torch.rand(size=(1_000_000,))\n",
    "x = torch.rand(size=(2000,1))\n",
    "\n",
    "with tsensor.explain():\n",
    "    a = torch.relu(x)\n",
    "    b = W @ b + x * 3 + h.dot(h)"
   ]
  },
  {
   "cell_type": "markdown",
   "id": "8339f350-8eef-4dd4-9356-685b1192df25",
   "metadata": {},
   "source": [
    "## Abstract syntax tree (AST) with operand shapes"
   ]
  },
  {
   "cell_type": "code",
   "execution_count": null,
   "id": "3adf24ee-a9c2-4cf5-bfa5-2b8cf245d00d",
   "metadata": {},
   "outputs": [],
   "source": [
    "n = 200         # number of instances\n",
    "d = 764         # number of instance features\n",
    "nhidden = 256\n",
    "\n",
    "Whh = torch.eye(nhidden, nhidden)   # Identity matrix\n",
    "Uxh = torch.randn(nhidden, d)\n",
    "bh  = torch.zeros(nhidden, 1)\n",
    "h = torch.randn(nhidden, 1)         # fake previous hidden state h\n",
    "r = torch.randn(nhidden, 1)         # fake this computation\n",
    "X = torch.rand(n,d)                 # fake input\n",
    "\n",
    "tsensor.astviz(\"h = torch.tanh(Whh @ (r*h) + Uxh @ X.T + bh)\") # don't eval, just show AST"
   ]
  }
 ],
 "metadata": {
  "kernelspec": {
   "display_name": "Python 3",
   "language": "python",
   "name": "python3"
  },
  "language_info": {
   "codemirror_mode": {
    "name": "ipython",
    "version": 3
   },
   "file_extension": ".py",
   "mimetype": "text/x-python",
   "name": "python",
   "nbconvert_exporter": "python",
   "pygments_lexer": "ipython3",
   "version": "3.8.8"
  }
 },
 "nbformat": 4,
 "nbformat_minor": 5
}
