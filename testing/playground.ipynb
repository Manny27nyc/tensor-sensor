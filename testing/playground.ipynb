{
 "cells": [
  {
   "cell_type": "code",
   "execution_count": 2,
   "metadata": {},
   "outputs": [
    {
     "ename": "RuntimeError",
     "evalue": "1D tensors expected, got 2D, 2D tensors at /tmp/pip-req-build-as628lz5/aten/src/TH/generic/THTensorEvenMoreMath.cpp:83\nCause: torch.dot(b,b) tensor arg b w/shape [2, 1], arg b w/shape [2, 1]",
     "output_type": "error",
     "traceback": [
      "\u001b[0;31m---------------------------------------------------------------------------\u001b[0m",
      "\u001b[0;31mRuntimeError\u001b[0m                              Traceback (most recent call last)",
      "\u001b[0;32m<ipython-input-2-23fde9d76e71>\u001b[0m in \u001b[0;36m<module>\u001b[0;34m\u001b[0m\n\u001b[1;32m     12\u001b[0m \u001b[0;34m\u001b[0m\u001b[0m\n\u001b[1;32m     13\u001b[0m \u001b[0;32mwith\u001b[0m \u001b[0mtsensor\u001b[0m\u001b[0;34m.\u001b[0m\u001b[0mclarify\u001b[0m\u001b[0;34m(\u001b[0m\u001b[0;34m)\u001b[0m\u001b[0;34m:\u001b[0m\u001b[0;34m\u001b[0m\u001b[0;34m\u001b[0m\u001b[0m\n\u001b[0;32m---> 14\u001b[0;31m     \u001b[0mW\u001b[0m \u001b[0;34m@\u001b[0m \u001b[0mtorch\u001b[0m\u001b[0;34m.\u001b[0m\u001b[0mdot\u001b[0m\u001b[0;34m(\u001b[0m\u001b[0mb\u001b[0m\u001b[0;34m,\u001b[0m\u001b[0mb\u001b[0m\u001b[0;34m)\u001b[0m\u001b[0;34m+\u001b[0m \u001b[0mtorch\u001b[0m\u001b[0;34m.\u001b[0m\u001b[0meye\u001b[0m\u001b[0;34m(\u001b[0m\u001b[0;36m2\u001b[0m\u001b[0;34m,\u001b[0m\u001b[0;36m2\u001b[0m\u001b[0;34m)\u001b[0m\u001b[0;34m@\u001b[0m\u001b[0mx\u001b[0m \u001b[0;34m+\u001b[0m \u001b[0mz\u001b[0m\u001b[0;34m\u001b[0m\u001b[0;34m\u001b[0m\u001b[0m\n\u001b[0m\u001b[1;32m     15\u001b[0m \u001b[0;31m# W[33, 33] = 3\u001b[0m\u001b[0;34m\u001b[0m\u001b[0;34m\u001b[0m\u001b[0;34m\u001b[0m\u001b[0m\n\u001b[1;32m     16\u001b[0m \u001b[0mb\u001b[0m \u001b[0;34m=\u001b[0m \u001b[0mtorch\u001b[0m\u001b[0;34m.\u001b[0m\u001b[0mabs\u001b[0m\u001b[0;34m(\u001b[0m \u001b[0mW\u001b[0m \u001b[0;34m@\u001b[0m \u001b[0mb\u001b[0m \u001b[0;34m+\u001b[0m \u001b[0mx\u001b[0m \u001b[0;34m)\u001b[0m\u001b[0;34m\u001b[0m\u001b[0;34m\u001b[0m\u001b[0m\n",
      "\u001b[0;31mRuntimeError\u001b[0m: 1D tensors expected, got 2D, 2D tensors at /tmp/pip-req-build-as628lz5/aten/src/TH/generic/THTensorEvenMoreMath.cpp:83\nCause: torch.dot(b,b) tensor arg b w/shape [2, 1], arg b w/shape [2, 1]"
     ]
    }
   ],
   "source": [
    "import torch\n",
    "import tsensor\n",
    "import sys\n",
    "\n",
    "W = torch.tensor([[1, 2], [3, 4]])\n",
    "b = torch.tensor([9, 10]).reshape(2, 1)\n",
    "x = torch.tensor([4, 5]).reshape(2, 1)\n",
    "h = torch.tensor([1,2])\n",
    "# z + z + W @ z\n",
    "# W @ z\n",
    "#torch.dot(b, 3)\n",
    "\n",
    "with tsensor.clarify():\n",
    "    W @ torch.dot(b,b)+ torch.eye(2,2)@x + z\n",
    "# W[33, 33] = 3\n",
    "b = torch.abs( W @ b + x )"
   ]
  },
  {
   "cell_type": "code",
   "execution_count": 4,
   "metadata": {},
   "outputs": [
    {
     "ename": "RuntimeError",
     "evalue": "1D tensors expected, got 2D, 2D tensors at /tmp/pip-req-build-as628lz5/aten/src/TH/generic/THTensorEvenMoreMath.cpp:83\nCause: torch.dot(b,b) tensor arg b w/shape [2, 1], arg b w/shape [2, 1]",
     "output_type": "error",
     "traceback": [
      "\u001b[0;31m---------------------------------------------------------------------------\u001b[0m",
      "\u001b[0;31mRuntimeError\u001b[0m                              Traceback (most recent call last)",
      "\u001b[0;32m<ipython-input-4-fd44e2c68a52>\u001b[0m in \u001b[0;36m<module>\u001b[0;34m\u001b[0m\n\u001b[1;32m      1\u001b[0m \u001b[0;32mwith\u001b[0m \u001b[0mtsensor\u001b[0m\u001b[0;34m.\u001b[0m\u001b[0mclarify\u001b[0m\u001b[0;34m(\u001b[0m\u001b[0;34m)\u001b[0m\u001b[0;34m:\u001b[0m\u001b[0;34m\u001b[0m\u001b[0;34m\u001b[0m\u001b[0m\n\u001b[0;32m----> 2\u001b[0;31m     \u001b[0mW\u001b[0m \u001b[0;34m@\u001b[0m \u001b[0mtorch\u001b[0m\u001b[0;34m.\u001b[0m\u001b[0mdot\u001b[0m\u001b[0;34m(\u001b[0m\u001b[0mb\u001b[0m\u001b[0;34m,\u001b[0m\u001b[0mb\u001b[0m\u001b[0;34m)\u001b[0m\u001b[0;34m+\u001b[0m \u001b[0mtorch\u001b[0m\u001b[0;34m.\u001b[0m\u001b[0meye\u001b[0m\u001b[0;34m(\u001b[0m\u001b[0;36m2\u001b[0m\u001b[0;34m,\u001b[0m\u001b[0;36m2\u001b[0m\u001b[0;34m)\u001b[0m\u001b[0;34m@\u001b[0m\u001b[0mx\u001b[0m \u001b[0;34m+\u001b[0m \u001b[0mz\u001b[0m\u001b[0;34m\u001b[0m\u001b[0;34m\u001b[0m\u001b[0m\n\u001b[0m",
      "\u001b[0;31mRuntimeError\u001b[0m: 1D tensors expected, got 2D, 2D tensors at /tmp/pip-req-build-as628lz5/aten/src/TH/generic/THTensorEvenMoreMath.cpp:83\nCause: torch.dot(b,b) tensor arg b w/shape [2, 1], arg b w/shape [2, 1]"
     ]
    }
   ],
   "source": [
    "with tsensor.clarify():\n",
    "    W @ torch.dot(b,b)+ torch.eye(2,2)@x + z"
   ]
  },
  {
   "cell_type": "markdown",
   "metadata": {},
   "source": [
    "## Graphviz"
   ]
  },
  {
   "cell_type": "code",
   "execution_count": 8,
   "metadata": {},
   "outputs": [
    {
     "name": "stdout",
     "output_type": "stream",
     "text": [
      "[<NAME:b>, <EQUAL:=>, <NAME:W>, <AT:@>, <NAME:h>, <PLUS:+>, <NAME:torch>, <DOT:.>, <NAME:abs>, <LPAR:(>, <NAME:x>, <RPAR:)>, <STAR:*>, <NAME:h>, <DOT:.>, <NAME:dot>, <LPAR:(>, <NAME:h>, <RPAR:)>, <ENDMARKER:>]\n"
     ]
    },
    {
     "data": {
      "text/plain": [
       "Assign(lhs=b,rhs=BinaryOp(op=<PLUS:+>,lhs=BinaryOp(op=<AT:@>,lhs=W,rhs=h),rhs=BinaryOp(op=<STAR:*>,lhs=Call(func=Member(obj=torch,member=abs),args=[x]),rhs=Call(func=Member(obj=h,member=dot),args=[h]))))"
      ]
     },
     "execution_count": 8,
     "metadata": {},
     "output_type": "execute_result"
    }
   ],
   "source": [
    "p = tsensor.parse.PyExprParser(\"b = W @ h + torch.abs(x) *h.dot(h)\")\n",
    "print(p.tokens)\n",
    "root = p.parse()\n",
    "root"
   ]
  },
  {
   "cell_type": "code",
   "execution_count": 9,
   "metadata": {},
   "outputs": [
    {
     "data": {
      "text/plain": [
       "tensor([[25, 31],\n",
       "        [30, 36]])"
      ]
     },
     "execution_count": 9,
     "metadata": {},
     "output_type": "execute_result"
    }
   ],
   "source": [
    "frame = sys._getframe()\n",
    "result = root.eval(frame)\n",
    "result"
   ]
  },
  {
   "cell_type": "code",
   "execution_count": 7,
   "metadata": {},
   "outputs": [],
   "source": [
    "def postorder(t):\n",
    "    nodes = []\n",
    "    _postorder(t, nodes)\n",
    "    return nodes\n",
    "def _postorder(t, nodes):\n",
    "    if t is None:\n",
    "        return\n",
    "    for sub in t.kids:\n",
    "        _postorder(sub, nodes)\n",
    "    nodes.append(t)"
   ]
  },
  {
   "cell_type": "code",
   "execution_count": null,
   "metadata": {},
   "outputs": [],
   "source": [
    "def leaves(t):\n",
    "    nodes = []\n",
    "    _leaves(t, nodes)\n",
    "    return nodes\n",
    "def _leaves(t, nodes):\n",
    "    if t is None:\n",
    "        return\n",
    "    if len(t.kids)==0:\n",
    "        nodes.append(t)\n",
    "        return\n",
    "    for sub in t.kids:\n",
    "        _leaves(sub, nodes)"
   ]
  },
  {
   "cell_type": "code",
   "execution_count": null,
   "metadata": {},
   "outputs": [],
   "source": [
    "nodes = postorder(root)\n",
    "atoms = leaves(root)\n",
    "atoms"
   ]
  },
  {
   "cell_type": "code",
   "execution_count": null,
   "metadata": {},
   "outputs": [],
   "source": [
    "# map tokens to nodes\n",
    "tok2node = {}\n",
    "for nd in atoms:\n",
    "    tok2node[nd.token] = nd"
   ]
  },
  {
   "cell_type": "code",
   "execution_count": null,
   "metadata": {},
   "outputs": [],
   "source": [
    "def walk(t, pre=lambda x:None, post=lambda x:None):\n",
    "    if t is None:\n",
    "        return\n",
    "    pre(t)\n",
    "    for sub in t.kids:\n",
    "        walk(sub, pre, post)\n",
    "    post(t)"
   ]
  },
  {
   "cell_type": "code",
   "execution_count": null,
   "metadata": {},
   "outputs": [],
   "source": [
    "import graphviz\n",
    "\n",
    "s = \"\"\"\n",
    "digraph G {\n",
    "    nodesep=.1;\n",
    "    ranksep=.3;\n",
    "    rankdir=BT;\n",
    "    ordering=out; # keep order of leaves\n",
    "    node [penwidth=\"0.5\", shape=plaintext, width=.1, height=.1];\n",
    "\"\"\"\n",
    "\n",
    "nodesS = set(nodes)\n",
    "atomsS = set(atoms)\n",
    "ops = nodesS.difference(atomsS)\n",
    "\n",
    "# s += f'{{ rank=same;'\n",
    "# for a in atoms:\n",
    "#     s += f' node{id(tok2node[a.token])};'\n",
    "# s += '}\\n'\n",
    "\n",
    "s += f'{{ rank=same;'\n",
    "for t in p.tokens:\n",
    "    if t.type!=tsensor.ENDMARKER:\n",
    "        x = tok2node[t] if t in tok2node else t\n",
    "        shape = \"\"\n",
    "        sh = tsensor._shape(x.value)\n",
    "        if x in atomsS and sh is not None:\n",
    "            shape = \"shape=box, fixedsize=shape \"\n",
    "            if len(sh)==1:\n",
    "                shape += f\"width={.15}, height={sh[0]/6.66}\"\n",
    "            elif len(sh)==2:\n",
    "                shape += f\"width={sh[1]/6.66}, height={sh[0]/6.66}\"\n",
    "#         print(sh, shape)\n",
    "        s += f'leaf{id(x)} [{shape} label=<<font face=\"Consolas\" color=\"#444443\" point-size=\"9\">{t.value}</font>>]\\n'\n",
    "s += '}\\n'\n",
    "\n",
    "# for nd in ops:\n",
    "#     s += f'leaf{id(nd)} [label=<<font face=\"Consolas\" color=\"#444443\" point-size=\"9\">{str(nd)}</font>>]'\n",
    "\n",
    "for nd in nodes:\n",
    "    if nd in ops:\n",
    "        text = str(nd)\n",
    "#         if isinstance(nd, tsensor.Atom):\n",
    "#             text = str(nd)\n",
    "#         else:\n",
    "#             text = nd.__class__.__name__\n",
    "#         text = str(nd)#+\"\\n\"+str(nd.value)\n",
    "#         text = \" \"\n",
    "        shape = \"\"\n",
    "        sh = tsensor._shape(nd.value)\n",
    "        if sh is not None:\n",
    "            shape = \"shape=box, fixedsize=shape \"\n",
    "            if len(sh)==1:\n",
    "                shape += f\"width={.15}, height={sh[0]/6.66}\"\n",
    "            elif len(sh)==2:\n",
    "                shape += f\"width={sh[1]/6.66}, height={sh[0]/6.66}\"\n",
    "        if sh is not None:\n",
    "            text += \"<br/>\"+'x'.join(str(s) for s in sh)\n",
    "#         else:\n",
    "#             text += \"=\"+str(nd.value)\n",
    "        s += f'node{id(nd)} [{shape} label=<<font face=\"Consolas\" color=\"#444443\" point-size=\"9\">{text}</font>>]\\n'\n",
    "\n",
    "# link leaves left to right\n",
    "for i in range(len(p.tokens)-2):\n",
    "    t = p.tokens[i]\n",
    "    t2 = p.tokens[i+1]\n",
    "    x = tok2node[t] if t in tok2node else t\n",
    "    x2 = tok2node[t2] if t2 in tok2node else t2\n",
    "    s += f'leaf{id(x)} -> leaf{id(x2)} [style=invis];\\n'\n",
    "    \n",
    "for nd in nodes:\n",
    "    kids = nd.kids\n",
    "#     if isinstance(nd, tsensor.Call) and isinstance(nd.kids[0], tsensor.Member):\n",
    "#         print('ignore', nd)\n",
    "#         kids = kids[1:]\n",
    "    for sub in kids:\n",
    "        if sub in atomsS:\n",
    "            s += f'node{id(nd)} -> leaf{id(sub)} [dir=back, penwidth=\"0.5\", color=\"#444443\", arrowsize=.4];\\n'\n",
    "        else:\n",
    "            s += f'node{id(nd)} -> node{id(sub)} [dir=back, penwidth=\"0.5\", color=\"#444443\", arrowsize=.4];\\n'\n",
    "s += \"}\\n\"\n",
    "graphviz.Source(s)"
   ]
  },
  {
   "cell_type": "code",
   "execution_count": null,
   "metadata": {},
   "outputs": [],
   "source": [
    "import graphviz\n",
    "\n",
    "s = \"\"\"\n",
    "digraph G {\n",
    "    nodesep=.1;\n",
    "    ranksep=.3;\n",
    "    rankdir=BT;\n",
    "    ordering=out; # keep order of leaves\n",
    "    node [penwidth=\"0.5\", shape=plaintext, width=.1, height=.1];\n",
    "\"\"\"\n",
    "\n",
    "nodesS = set(nodes)\n",
    "atomsS = set(atoms)\n",
    "ops = nodesS.difference(atomsS)\n",
    "\n",
    "s += f'{{ rank=same;'\n",
    "for a in atoms:\n",
    "    s += f'node{id(a)};'\n",
    "s += '}\\n'\n",
    "\n",
    "for nd in nodes:\n",
    "    if isinstance(nd, tsensor.Atom):\n",
    "        text = str(nd)\n",
    "    else:\n",
    "        text = nd.__class__.__name__\n",
    "    shape = \"\"\n",
    "    sh = _shape(nd.value)\n",
    "    if sh is not None:\n",
    "        shape = \"shape=box, fixedsize=shape \"\n",
    "        if len(sh)==1:\n",
    "            shape += f\"width={.15}, height={sh[0]/6.66}\"\n",
    "        elif len(sh)==2:\n",
    "            shape += f\"width={sh[1]/6.66}, height={sh[0]/6.66}\"\n",
    "    s += f'node{id(nd)} [{shape} label=<<font face=\"Consolas\" color=\"#444443\" point-size=\"9\">{text}</font>>]\\n'\n",
    "    \n",
    "for nd in nodes:\n",
    "    kids = nd.kids\n",
    "#     if isinstance(nd, tsensor.Call) and isinstance(nd.kids[0], tsensor.Member):\n",
    "#         print('ignore', nd)\n",
    "#         kids = kids[1:]\n",
    "    for sub in kids:\n",
    "        if sub in atomsS:\n",
    "            s += f'node{id(nd)} -> node{id(sub)} [dir=back, penwidth=\"0.5\", color=\"#444443\", arrowsize=.4];'\n",
    "        else:\n",
    "            s += f'node{id(nd)} -> node{id(sub)} [dir=back, penwidth=\"0.5\", color=\"#444443\", arrowsize=.4];'\n",
    "s += \"}\\n\"\n",
    "graphviz.Source(s)"
   ]
  },
  {
   "cell_type": "code",
   "execution_count": null,
   "metadata": {},
   "outputs": [],
   "source": [
    "W = torch.tensor([[1, 2], [3, 4], [5, 6]])\n",
    "b = torch.tensor([9, 10]).reshape(2, 1)\n",
    "x = torch.tensor([4, 5]).reshape(2, 1)\n",
    "h = torch.tensor([1,2])\n",
    "a = 3\n",
    "\n",
    "x = torch.tensor([4, 5]).reshape(2, 1)\n",
    "p = tsensor.PyExprParser(\"a = a\")\n",
    "p = tsensor.PyExprParser(\"b = W@b + torch.abs(x) + h.dot(h)\")\n",
    "p = tsensor.PyExprParser(\"b = W@b + h.dot(h)\")\n",
    "print(p.tokens)\n",
    "root = p.parse()\n",
    "nodes = postorder(root)\n",
    "atoms = leaves(root)\n",
    "# map tokens to nodes\n",
    "tok2node = {}\n",
    "for nd in atoms:\n",
    "    tok2node[nd.token] = nd\n",
    "frame = sys._getframe()\n",
    "result = root.eval(frame)\n",
    "result"
   ]
  },
  {
   "cell_type": "code",
   "execution_count": null,
   "metadata": {},
   "outputs": [],
   "source": [
    "import graphviz\n",
    "\n",
    "def matrix_html(nrows, ncols, label, fontsize=12, fontname=\"Consolas\", dimfontsize=9, color=\"#cfe2d4\"):\n",
    "    isvec = ncols==None\n",
    "    if isvec:\n",
    "        sz = str(nrows)\n",
    "        ncols=nrows\n",
    "        nrows=1\n",
    "    else:\n",
    "        sz = f\"{nrows}x{ncols}\"\n",
    "    w = ncols*20\n",
    "    h = nrows*20\n",
    "    if ncols==1:\n",
    "        w = 15\n",
    "    if nrows==1:\n",
    "        h = 15\n",
    "    html = f\"\"\"\n",
    "    <table fixedsize=\"true\" width=\"{w}\" height=\"{h+2*fontsize*1.3}\" BORDER=\"0\" CELLPADDING=\"0\" CELLBORDER=\"1\" CELLSPACING=\"0\">\n",
    "    <tr>\n",
    "    <td fixedsize=\"true\" width=\"{w}\" height=\"{fontsize*1.3}\" cellspacing=\"0\" cellpadding=\"0\" border=\"0\" valign=\"top\" align=\"center\">\n",
    "    <font face=\"{fontname}\" color=\"#444443\" point-size=\"{dimfontsize}\">{sz}</font>\n",
    "    </td>\n",
    "    </tr>\n",
    "    <tr>    \n",
    "    <td fixedsize=\"true\" width=\"{w}\" height=\"{h}\" cellspacing=\"0\" cellpadding=\"0\" bgcolor=\"{color}\" border=\"1\" sides=\"ltbr\" align=\"center\">\n",
    "    <font face=\"{fontname}\" color=\"#444443\" point-size=\"{fontsize}\">{label}</font>\n",
    "    </td>\n",
    "    </tr>\n",
    "    </table>\"\"\"\n",
    "    return html\n",
    "\n",
    "nodesS = set(nodes)\n",
    "atomsS = set(atoms)\n",
    "ops = nodesS.difference(atomsS)\n",
    "\n",
    "s = \"\"\"\n",
    "digraph G {\n",
    "    nodesep=.0;\n",
    "    ranksep=.3;\n",
    "    rankdir=BT;\n",
    "    ordering=out; # keep order of leaves\n",
    "\"\"\"\n",
    "\n",
    "fontname=\"Consolas\"\n",
    "fontsize=12\n",
    "spread = .2\n",
    "\n",
    "s += f'{{ rank=same; '\n",
    "for t in p.tokens:\n",
    "    if t.type!=tsensor.ENDMARKER:\n",
    "        x = tok2node[t] if t in tok2node else t\n",
    "        shape = \"\"\n",
    "        sh = tsensor._shape(x.value)\n",
    "        label = f'<font face=\"{fontname}\" color=\"#444443\" point-size=\"{fontsize}\">{t.value}</font>'\n",
    "        matrixcolor=\"#cfe2d4\"\n",
    "        vectorcolor=\"#fefecd\"\n",
    "        if x in atomsS and sh is not None:\n",
    "            if len(sh)==1:\n",
    "                label = matrix_html(sh[0],None,t.value,fontname=fontname,fontsize=fontsize,color=vectorcolor)\n",
    "            elif len(sh)==2:\n",
    "                label = matrix_html(sh[0],sh[1],t.value,fontname=fontname,fontsize=fontsize,color=matrixcolor)\n",
    "        # margin/width don't seem to do anything for shape=plain\n",
    "        if t.type==tsensor.DOT:\n",
    "            spread=.1\n",
    "        if t.type==tsensor.EQUAL:\n",
    "            spread=.25\n",
    "        if t.type in tsensor.ADDOP:\n",
    "            spread=.5\n",
    "        if t.type in tsensor.MULOP:\n",
    "            spread=.2\n",
    "        s += f'leaf{id(x)} [shape=box penwidth=0 margin=.001 width={spread} label=<{label}>]\\n'\n",
    "s += '}\\n'\n",
    "\n",
    "s += \"}\\n\"\n",
    "# print(s)\n",
    "graphviz.Source(s)"
   ]
  },
  {
   "cell_type": "code",
   "execution_count": null,
   "metadata": {},
   "outputs": [],
   "source": [
    "s = \"\"\"\n",
    "digraph foo {\n",
    "    rankdir=TB\n",
    "    subgraph {\n",
    "        node1;\n",
    "    }\n",
    "    subgraph {\n",
    "        node2;\n",
    "    }\n",
    "    node1 -> node2\n",
    "}\n",
    "\"\"\"\n",
    "display(graphviz.Source(s))\n",
    "display(graphviz.Source(s))"
   ]
  },
  {
   "cell_type": "markdown",
   "metadata": {},
   "source": [
    "## Get string size in matplotlib"
   ]
  },
  {
   "cell_type": "code",
   "execution_count": null,
   "metadata": {},
   "outputs": [],
   "source": [
    "import matplotlib\n",
    "import matplotlib.patches as patches\n",
    "from matplotlib import pyplot as plt\n",
    "def textdim(s, fontsize=11):\n",
    "    fig, ax = plt.subplots(1,1)\n",
    "    t = ax.text(0, 0, s, bbox={'lw':0}, fontsize=fontsize)\n",
    "    plt.savefig(\"/tmp/junk\")\n",
    "    plt.close()\n",
    "    bb = t.get_bbox_patch()\n",
    "    w, h = bb.get_width(), bb.get_height()\n",
    "    return w, h"
   ]
  },
  {
   "cell_type": "code",
   "execution_count": null,
   "metadata": {},
   "outputs": [],
   "source": [
    "textdim(\"test of foO\", fontsize=11)"
   ]
  },
  {
   "cell_type": "code",
   "execution_count": null,
   "metadata": {},
   "outputs": [],
   "source": [
    "import numpy as np\n",
    "a = [[1,2,3],[3,4,5]]\n",
    "objviz(a)"
   ]
  },
  {
   "cell_type": "code",
   "execution_count": null,
   "metadata": {},
   "outputs": [],
   "source": [
    "from lolviz import *\n",
    "print(objviz(a).source)"
   ]
  },
  {
   "cell_type": "code",
   "execution_count": null,
   "metadata": {},
   "outputs": [],
   "source": [
    "s = \"\"\"\n",
    "digraph G {\n",
    "    ranksep=0;\n",
    "    rankdir=BT;\n",
    "    ordering=out; # keep order of leaves\n",
    "    node1 [shape=plain, space=\"0.0\", margin=\"0.01\",label=<\n",
    "<table BORDER=\"0\" CELLPADDING=\"0\" CELLBORDER=\"1\" CELLSPACING=\"0\">\n",
    "<tr>\n",
    "<td  width=\"100\" height=\"12\" cellspacing=\"0\" cellpadding=\"0\" border=\"1\" sides=\"b\" valign=\"top\" align=\"center\">100x200</td>\n",
    "</tr>\n",
    "<tr>\n",
    "<td  width=\"100\" height=\"88\" cellspacing=\"0\" cellpadding=\"0\" border=\"1\" sides=\"lbr\" align=\"center\">self.W</td>\n",
    "</tr>\n",
    "</table>\n",
    "    >]\n",
    "}\n",
    "\"\"\"\n",
    "graphviz.Source(s)"
   ]
  },
  {
   "cell_type": "markdown",
   "metadata": {},
   "source": [
    "## CSS (yuck)"
   ]
  },
  {
   "cell_type": "code",
   "execution_count": null,
   "metadata": {},
   "outputs": [],
   "source": [
    "from IPython.core.display import display, HTML\n",
    "h = \"\"\"\n",
    "<h6 style=\"color: Green; position:absolute; top: 20vh; left: 25vw; height: auto; margin: auto;\">Actief</h6>\n",
    "<table>\n",
    "<tr>\n",
    "    <td>b = torch.abs( W @ b +</td>\n",
    "    <td><div style=\"width:100px;height:150px;border:1px solid #000;\">\n",
    "    <table style=\"width:100px;height:150px\" border='0' cellborder='0' cellpadding=\"0\" cellspacing=\"0\">\n",
    "           <tr>\n",
    "               <td height=\"50%\" width=\"33%\"></td>\n",
    "               <td width=\"33%\" cellpadding=\"0\" cellspacing=\"0\" align=center valign=top>40</td><td width=\"33%\"></td>\n",
    "           </tr>\n",
    "           <tr>\n",
    "               <td width=\"33%\" cellpadding=\"0\" cellspacing=\"0\">100</td>\n",
    "               <td width=\"33%\" cellpadding=\"0\" cellspacing=\"0\" align=\"center\">self.W</td>\n",
    "               <td width=\"33%\"></td>\n",
    "           </tr>\n",
    "         </table>\n",
    "    </div>\n",
    "    </td>\n",
    "    <td>)</td>\n",
    "</tr>\n",
    "\"\"\"\n",
    "t = HTML(h)\n",
    "t"
   ]
  },
  {
   "cell_type": "code",
   "execution_count": null,
   "metadata": {},
   "outputs": [],
   "source": [
    "def matrix(nrows,ncols,text,dim_fontsize=9,fontsize=12):\n",
    "    h = f\"\"\"\n",
    "    <div style=\"position:relative; width:{ncols}px;height:{nrows*1.2}px; padding:0px\">\n",
    "     <div style=\"position:relative; width:{ncols}px;height:{nrows}px;border:1px solid #000; padding:0px\">\n",
    "      <div style=\"position:absolute; width:{ncols}px; top: -3px; text-align:center; font-size:{dim_fontsize}px\">\n",
    "        {ncols}\n",
    "      </div>\n",
    "      <div style=\"position:absolute; top: 40%; left: -3px; transform: rotate(-90deg); font-size:{dim_fontsize}px\">\n",
    "        {nrows}\n",
    "      </div>\n",
    "     </div>\n",
    "     <div style=\"position:absolute; width:{ncols}px; bottom: 5px; text-align:center; font-size:{fontsize}px\">\n",
    "        {text}\n",
    "     </div>\n",
    "    </div>\n",
    "    \"\"\"\n",
    "    sp = f\"\"\"\n",
    "    <div style=\"position:relative; width:{ncols}px;height:{nrows*1.2}px; padding:0px\">\n",
    "     <span style=\"position:relative; width:{ncols}px;height:{nrows}px;border:1px solid #000; padding:0px\">\n",
    "      <span style=\"position:absolute; width:{ncols}px; top: -3px; text-align:center; font-size:{dim_fontsize}px\">\n",
    "        {ncols}\n",
    "      </span>\n",
    "      <span style=\"position:absolute; top: 40%; left: -3px; transform: rotate(-90deg); font-size:{dim_fontsize}px\">\n",
    "        {nrows}\n",
    "      </span>\n",
    "     </span>\n",
    "     <span style=\"position:absolute; width:{ncols}px; bottom: 5px; text-align:center; font-size:{fontsize}px\">\n",
    "        {text}\n",
    "     </span>\n",
    "    </div>\n",
    "    \"\"\"\n",
    "\n",
    "    return sp\n",
    "\n",
    "m = matrix(120,20,\"self.W\")\n",
    "m = f\"torch.relu({m})\"\n",
    "HTML(m)"
   ]
  },
  {
   "cell_type": "code",
   "execution_count": null,
   "metadata": {},
   "outputs": [],
   "source": []
  },
  {
   "cell_type": "code",
   "execution_count": null,
   "metadata": {},
   "outputs": [],
   "source": []
  }
 ],
 "metadata": {
  "kernelspec": {
   "display_name": "Python 3",
   "language": "python",
   "name": "python3"
  },
  "language_info": {
   "codemirror_mode": {
    "name": "ipython",
    "version": 3
   },
   "file_extension": ".py",
   "mimetype": "text/x-python",
   "name": "python",
   "nbconvert_exporter": "python",
   "pygments_lexer": "ipython3",
   "version": "3.8.6"
  }
 },
 "nbformat": 4,
 "nbformat_minor": 4
}
